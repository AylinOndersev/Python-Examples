{
 "cells": [
  {
   "cell_type": "code",
   "execution_count": 1,
   "metadata": {},
   "outputs": [],
   "source": [
    "def problem1(file):\n",
    "    #import pandas library\n",
    "    import pandas as pd\n",
    "    #read csv file and create dataframe\n",
    "    data=pd.read_csv(file,encoding=\"latin-1\")\n",
    "    #find average of mileages with grouping Purchased column according to each car type and pivot results\n",
    "    display(data.pivot_table(values=\"Mileage\",index=\"Type\",columns=\"Purchased\",aggfunc=\"mean\"))\n",
    "    #for each car type find the difference between maximum and minimum Vehichle Age and pivot results\n",
    "    display(data.pivot_table(values=['Vehicle_Age'],index=\"Type\",aggfunc=lambda g: g.max() - g.min()))\n",
    "\n",
    "def problem2(file):\n",
    "    #import pandas library\n",
    "    import pandas as pd\n",
    "    #read csv file and create dataframe\n",
    "    data = pd.read_csv(file,encoding=\"latin-1\")\n",
    "    #counting the top-10 most frequent Complaint Types\n",
    "    complaint_type = data['Complaint Type'].value_counts().nlargest(10)\n",
    "    #calculate the number of unique Agency Names\n",
    "    agency_name = len(data['Agency Name'].unique())\n",
    "    \n",
    "    #print complaint_type\n",
    "    print(complaint_type.to_string())\n",
    "    #print unique agency name\n",
    "    print(f'The number of unique Agency Names:\\n{agency_name}')\n",
    "    #create dataframe from making group Borough having highest number of \"Illegal Parking\" Complaints\n",
    "    df=data.groupby(['Borough','Complaint Type']).filter(\n",
    "    lambda x : (x['Complaint Type'] == 'Illegal Parking').any())\n",
    "    #print top-5 Borough\n",
    "    print(df['Borough'].value_counts().nlargest(5).to_string())\n",
    "    \n",
    "def problem3(file):\n",
    "    #import pandas library\n",
    "    import pandas as pd\n",
    "    #read csv file and create dataframe\n",
    "    data = pd.read_csv(file,encoding=\"latin-1\")\n",
    "    #find the number of unique items\n",
    "    print('the number of unique Items:',len(data['Item'].unique()))\n",
    "    #Count transactions according to Item group\n",
    "    df_sold=data.groupby('Item',as_index=False).count()[['Item','Transaction']]\n",
    "    #rename Transaction column to Quantity Sold\n",
    "    df_sold.rename(columns={'Transaction': 'Quantity Sold'}, inplace=True)\n",
    "    #find 5th of Quantity Sold\n",
    "    df_sold=df_sold.nlargest(5,'Quantity Sold')\n",
    "    #set columns as index\n",
    "    df_sold.set_index('Item','Quantity Sold')\n",
    "    #Print how many times each item was sold\n",
    "    print(df_sold.to_string(index=False))\n",
    "    #Find how many transactions contain Coffee,drop duplicates of transactions group by 'Transaction','Item'\n",
    "    #if item equals to Coffee , count them\n",
    "    df=data.drop_duplicates(subset=['Transaction','Item']).groupby(['Transaction','Item']).filter(\n",
    "    lambda x : (x['Item'] == 'Coffee').any())['Item'].value_counts()\n",
    "    #print Coffee column\n",
    "    print('the number of transactions that have Coffee is',df['Coffee'])\n",
    "    \n",
    "def problem4(file):\n",
    "    #import pandas library\n",
    "    import pandas as pd\n",
    "    #read csv file and create dataframe\n",
    "    data = pd.read_csv(file,encoding=\"latin-1\")\n",
    "    #sum yellow cards according to Teams\n",
    "    yellow_cards = (data.groupby('Team').agg({'Yellow Cards':'sum'}))\n",
    "    #find min and maxs of yellow cards of teams\n",
    "    yc_minmax=yellow_cards.agg({'Yellow Cards':['min','max']})\n",
    "    minimum = yc_minmax['Yellow Cards']['min']\n",
    "    maximum = yc_minmax['Yellow Cards']['max']\n",
    "    #find country of min yellows cards\n",
    "    yc_min = yellow_cards[yellow_cards['Yellow Cards'].values == minimum].index.values\n",
    "    #find country of max yellows cards\n",
    "    yc_max = yellow_cards[yellow_cards['Yellow Cards'].values == maximum].index.values\n",
    "    #Print the teams that have lowest and highest number of yellow cards\n",
    "    print('countries that have the minimum number of yellow cards:')\n",
    "    [print(i) for i in yc_min]\n",
    "    print('countries that have the maximum number of yellow cards:')\n",
    "    [print(i) for i in yc_max]\n",
    "    #create dataframe df for just two columns Team and Shooting Accuracy\n",
    "    df=data.groupby(['Team','Shooting Accuracy'])['Team','Shooting Accuracy'].head()\n",
    "\n",
    "    #find the team that has the best shooting accuracy,find max accuracy\n",
    "    print('the team that has the highest scooring accuracy is',df[df['Shooting Accuracy'] == df['Shooting Accuracy'].max()]['Team'].any())"
   ]
  },
  {
   "cell_type": "markdown",
   "metadata": {},
   "source": [
    "AutoSurvey.csv contains a sample of data about vehicles owned, whether they were purchased new or used, and other types of data.\n",
    "Finding average mileage for each car type.\n",
    "Finding Average of mileages is be grouped into columns as New and Used.\n",
    "Finding the difference between maximum and minimum Vehichle Age For each car type."
   ]
  },
  {
   "cell_type": "code",
   "execution_count": 2,
   "metadata": {},
   "outputs": [
    {
     "data": {
      "text/html": [
       "<div>\n",
       "<style scoped>\n",
       "    .dataframe tbody tr th:only-of-type {\n",
       "        vertical-align: middle;\n",
       "    }\n",
       "\n",
       "    .dataframe tbody tr th {\n",
       "        vertical-align: top;\n",
       "    }\n",
       "\n",
       "    .dataframe thead th {\n",
       "        text-align: right;\n",
       "    }\n",
       "</style>\n",
       "<table border=\"1\" class=\"dataframe\">\n",
       "  <thead>\n",
       "    <tr style=\"text-align: right;\">\n",
       "      <th>Purchased</th>\n",
       "      <th>New</th>\n",
       "      <th>Used</th>\n",
       "    </tr>\n",
       "    <tr>\n",
       "      <th>Type</th>\n",
       "      <th></th>\n",
       "      <th></th>\n",
       "    </tr>\n",
       "  </thead>\n",
       "  <tbody>\n",
       "    <tr>\n",
       "      <td>Large SUV</td>\n",
       "      <td>130905.000000</td>\n",
       "      <td>185397.0</td>\n",
       "    </tr>\n",
       "    <tr>\n",
       "      <td>Mid-size</td>\n",
       "      <td>11424.333333</td>\n",
       "      <td>106810.0</td>\n",
       "    </tr>\n",
       "    <tr>\n",
       "      <td>Minivan</td>\n",
       "      <td>180643.000000</td>\n",
       "      <td>182584.0</td>\n",
       "    </tr>\n",
       "    <tr>\n",
       "      <td>Small</td>\n",
       "      <td>80405.833333</td>\n",
       "      <td>131022.4</td>\n",
       "    </tr>\n",
       "    <tr>\n",
       "      <td>Small SUV</td>\n",
       "      <td>29823.000000</td>\n",
       "      <td>113121.0</td>\n",
       "    </tr>\n",
       "  </tbody>\n",
       "</table>\n",
       "</div>"
      ],
      "text/plain": [
       "Purchased            New      Used\n",
       "Type                              \n",
       "Large SUV  130905.000000  185397.0\n",
       "Mid-size    11424.333333  106810.0\n",
       "Minivan    180643.000000  182584.0\n",
       "Small       80405.833333  131022.4\n",
       "Small SUV   29823.000000  113121.0"
      ]
     },
     "metadata": {},
     "output_type": "display_data"
    },
    {
     "data": {
      "text/html": [
       "<div>\n",
       "<style scoped>\n",
       "    .dataframe tbody tr th:only-of-type {\n",
       "        vertical-align: middle;\n",
       "    }\n",
       "\n",
       "    .dataframe tbody tr th {\n",
       "        vertical-align: top;\n",
       "    }\n",
       "\n",
       "    .dataframe thead th {\n",
       "        text-align: right;\n",
       "    }\n",
       "</style>\n",
       "<table border=\"1\" class=\"dataframe\">\n",
       "  <thead>\n",
       "    <tr style=\"text-align: right;\">\n",
       "      <th></th>\n",
       "      <th>Vehicle_Age</th>\n",
       "    </tr>\n",
       "    <tr>\n",
       "      <th>Type</th>\n",
       "      <th></th>\n",
       "    </tr>\n",
       "  </thead>\n",
       "  <tbody>\n",
       "    <tr>\n",
       "      <td>Large SUV</td>\n",
       "      <td>7.00</td>\n",
       "    </tr>\n",
       "    <tr>\n",
       "      <td>Mid-size</td>\n",
       "      <td>14.75</td>\n",
       "    </tr>\n",
       "    <tr>\n",
       "      <td>Minivan</td>\n",
       "      <td>5.00</td>\n",
       "    </tr>\n",
       "    <tr>\n",
       "      <td>Small</td>\n",
       "      <td>11.00</td>\n",
       "    </tr>\n",
       "    <tr>\n",
       "      <td>Small SUV</td>\n",
       "      <td>10.00</td>\n",
       "    </tr>\n",
       "  </tbody>\n",
       "</table>\n",
       "</div>"
      ],
      "text/plain": [
       "           Vehicle_Age\n",
       "Type                  \n",
       "Large SUV         7.00\n",
       "Mid-size         14.75\n",
       "Minivan           5.00\n",
       "Small            11.00\n",
       "Small SUV        10.00"
      ]
     },
     "metadata": {},
     "output_type": "display_data"
    }
   ],
   "source": [
    "problem1(\"AutoSurvey.csv\")"
   ]
  },
  {
   "cell_type": "markdown",
   "metadata": {},
   "source": [
    "Printing the top-10 most frequent Complaint Types, the number of unique Agency Names,the top-5 Borough having highest number of \"Illegal Parking\" Complaints"
   ]
  },
  {
   "cell_type": "code",
   "execution_count": 3,
   "metadata": {},
   "outputs": [
    {
     "name": "stdout",
     "output_type": "stream",
     "text": [
      "HEATING                   14200\n",
      "GENERAL CONSTRUCTION       7471\n",
      "Street Light Condition     7117\n",
      "DOF Literature Request     5797\n",
      "PLUMBING                   5373\n",
      "PAINT - PLASTER            5149\n",
      "Blocked Driveway           4590\n",
      "NONCONST                   3998\n",
      "Street Condition           3473\n",
      "Illegal Parking            3343\n",
      "The number of unique Agency Names:\n",
      "135\n",
      "BROOKLYN         1147\n",
      "QUEENS            887\n",
      "MANHATTAN         640\n",
      "BRONX             391\n",
      "STATEN ISLAND     278\n"
     ]
    }
   ],
   "source": [
    "problem2(\"/DATA/311-service-requests.csv\")"
   ]
  },
  {
   "cell_type": "markdown",
   "metadata": {},
   "source": [
    "“BreadBasket_DMS.csv” file that contains sales informations of a bakery. The colums are: Date,Time,Transaction and Item. Transaction can be thought as the order id.\n",
    "Printing the number of unique items,how many times each item was sold,How many transactions contain Coffee. "
   ]
  },
  {
   "cell_type": "code",
   "execution_count": 4,
   "metadata": {},
   "outputs": [
    {
     "name": "stdout",
     "output_type": "stream",
     "text": [
      "the number of unique Items: 95\n",
      "   Item  Quantity Sold\n",
      " Coffee           5471\n",
      "  Bread           3325\n",
      "    Tea           1435\n",
      "   Cake           1025\n",
      " Pastry            856\n",
      "the number of transactions that have Coffee is 4528\n"
     ]
    }
   ],
   "source": [
    "problem3(\"/DATA/BreadBasket_DMS.csv\")"
   ]
  },
  {
   "cell_type": "markdown",
   "metadata": {},
   "source": [
    "Euro 2012 stats TEAM.csv file contains statistics of the teams that attended Europen Cup 2012.\n",
    "Finding the teams that have lowest and highest number of yellow cards. \n",
    "more than one country can have the same maximum number or minimum number of yellow cards.\n",
    "Finding the team that has the best shooting accuracy."
   ]
  },
  {
   "cell_type": "code",
   "execution_count": 5,
   "metadata": {},
   "outputs": [
    {
     "name": "stdout",
     "output_type": "stream",
     "text": [
      "countries that have the minimum number of yellow cards:\n",
      "Denmark\n",
      "Germany\n",
      "countries that have the maximum number of yellow cards:\n",
      "Italy\n",
      "the team that has the highest scooring accuracy is Spain\n"
     ]
    }
   ],
   "source": [
    "problem4(\"Euro 2012 stats TEAM.csv\")"
   ]
  },
  {
   "cell_type": "code",
   "execution_count": null,
   "metadata": {},
   "outputs": [],
   "source": []
  }
 ],
 "metadata": {
  "kernelspec": {
   "display_name": "Python 3",
   "language": "python",
   "name": "python3"
  },
  "language_info": {
   "codemirror_mode": {
    "name": "ipython",
    "version": 3
   },
   "file_extension": ".py",
   "mimetype": "text/x-python",
   "name": "python",
   "nbconvert_exporter": "python",
   "pygments_lexer": "ipython3",
   "version": "3.7.4"
  }
 },
 "nbformat": 4,
 "nbformat_minor": 2
}
