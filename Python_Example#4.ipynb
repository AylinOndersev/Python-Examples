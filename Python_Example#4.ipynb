{
 "cells": [
  {
   "cell_type": "markdown",
   "metadata": {},
   "source": [
    "A store charges 12 per item if you buy less than 10 items. If you buy between 10 and 99 items, the cost is 10 per item. If you buy 100 or more items, the cost is 7 per item. how many items are bought and prints the total cost."
   ]
  },
  {
   "cell_type": "code",
   "execution_count": 1,
   "metadata": {},
   "outputs": [],
   "source": [
    "def problem1(input):  #define function and input parameter\n",
    "    cost = 0          #default value of cost is zero , provide negative input value control\n",
    "    if input > 0 and input < 10:\n",
    "        cost = input * 12\n",
    "    elif input >= 10 and input < 100:\n",
    "        cost = input * 10\n",
    "    elif input >= 100:\n",
    "        cost = input * 7\n",
    "    else:\n",
    "        cost\n",
    "    return print(f'total cost is ${cost}') #output of function\n",
    "         "
   ]
  },
  {
   "cell_type": "code",
   "execution_count": 2,
   "metadata": {},
   "outputs": [
    {
     "name": "stdout",
     "output_type": "stream",
     "text": [
      "total cost is $60\n",
      "total cost is $980\n",
      "total cost is $150\n",
      "total cost is $2100\n",
      "total cost is $0\n"
     ]
    }
   ],
   "source": [
    "problem1(5)\n",
    "problem1(98)\n",
    "problem1(15)\n",
    "problem1(300)\n",
    "problem1(-1)"
   ]
  },
  {
   "cell_type": "markdown",
   "metadata": {},
   "source": [
    "Generates a list of 20 random numbers between 1 and 100. random seed as 18."
   ]
  },
  {
   "cell_type": "code",
   "execution_count": 6,
   "metadata": {},
   "outputs": [],
   "source": [
    "def problem2():  #define function that returns metrics of 20 random numbers between 1 and 100 \n",
    "    import random\n",
    "    random.seed(18)  #set random seed into 18 to print same number sequence at every runtime\n",
    "    l=list(random.randint(1,100) for a in range(20)); #create list that includes 20 random numbers between 1 and 100\n",
    "\n",
    "    count_even = 0  #number of even numbers\n",
    "    count_odd  = 0  #number of odd numbers\n",
    "    \n",
    "    for i in l:  #go around list l and check every item in list\n",
    "        if i % 2 == 0:   # even numbers counting\n",
    "            count_even +=1\n",
    "        else:\n",
    "            count_odd +=1  #odd numbers counting\n",
    "    max_element= max(l)  #max element of list\n",
    "    min_element= min(l)  #min element of list\n",
    "    secondmax_list = list()  #define list for second max number in list\n",
    "    secondmin_list = list()  #define list for second min number in list\n",
    "    for i in l:\n",
    "        if i < max_element:\n",
    "            secondmax_list.append(i) #if element is small than max element then add to secondmax_list\n",
    "    for i in l:\n",
    "        if i > min_element:\n",
    "            secondmin_list.append(i)   #if element is max than min element then add to secondmin_list\n",
    "            \n",
    "    print('the numbers in the list:\\n',l)  #display list\n",
    "    print('the sorted list:\\n',sorted(l,reverse=True)) #display reversed list\n",
    "    print('the average of the list:',sum(l)/len(l))  #display average of elements in list\n",
    "    print('the number of even-numbers is :',count_even) #display number of even elements\n",
    "    print('the largest element of the list:',max_element) #display max element\n",
    "    print('the smallest element of the list:',min_element) #display min element\n",
    "    print('the second smallest element of the list:',min(secondmin_list)) #display second min element\n",
    "    print('the second largest element of the list:',max(secondmax_list))  #display second max element\n"
   ]
  },
  {
   "cell_type": "code",
   "execution_count": 7,
   "metadata": {},
   "outputs": [
    {
     "name": "stdout",
     "output_type": "stream",
     "text": [
      "the numbers in the list:\n",
      " [24, 16, 85, 58, 43, 31, 26, 63, 81, 64, 24, 62, 38, 59, 34, 26, 33, 89, 16, 42]\n",
      "the sorted list:\n",
      " [89, 85, 81, 64, 63, 62, 59, 58, 43, 42, 38, 34, 33, 31, 26, 26, 24, 24, 16, 16]\n",
      "the average of the list: 45.7\n",
      "the number of even-numbers is : 12\n",
      "the largest element of the list: 89\n",
      "the smallest element of the list: 16\n",
      "the second smallest element of the list: 24\n",
      "the second largest element of the list: 85\n"
     ]
    }
   ],
   "source": [
    "problem2()"
   ]
  },
  {
   "cell_type": "markdown",
   "metadata": {},
   "source": [
    "a program that asks the user how many Fibonacci numbers to print and then prints that many."
   ]
  },
  {
   "cell_type": "code",
   "execution_count": 10,
   "metadata": {},
   "outputs": [],
   "source": [
    "def problem3(input): #define function for printing fibonacci list according to user input\n",
    "    \n",
    "    first_element = 1  #set first element to 1\n",
    "    second_element = 1 #set second element to 1\n",
    "    fibonacci_list = [] #define a list for fibonacci numbers\n",
    "    if input <= 0 :     #alert user for invalid input\n",
    "        print('Enter a number bigger than zero!')\n",
    "    else:\n",
    "        for i in range(input):  #for loop ends at number of input\n",
    "            if i == 0:  #fibonacci rule , first and second element are 1\n",
    "                fibonacci_list.append(first_element)\n",
    "            elif i == 1:\n",
    "                fibonacci_list.append(second_element)\n",
    "            else:\n",
    "                fibonacci_list.append(fibonacci_list[i-1]+fibonacci_list[i-2]) #each number thereafter is the sum of of two preceding number          \n",
    "        print(fibonacci_list)\n",
    "        "
   ]
  },
  {
   "cell_type": "code",
   "execution_count": 11,
   "metadata": {},
   "outputs": [
    {
     "name": "stdout",
     "output_type": "stream",
     "text": [
      "Please enter a number for fibonacci sequence 5\n",
      "[1, 1, 2, 3, 5]\n",
      "[1, 1, 2, 3, 5]\n",
      "[1, 1, 2, 3, 5, 8, 13, 21, 34, 55]\n",
      "Enter a number bigger than zero!\n"
     ]
    }
   ],
   "source": [
    "number = int(input(\"Please enter a number for fibonacci sequence \"))\n",
    "problem3(number)\n",
    "problem3(5)\n",
    "problem3(10)\n",
    "problem3(-1)"
   ]
  },
  {
   "cell_type": "markdown",
   "metadata": {},
   "source": [
    "Randomly generate a 6 x 6 list that has exactly 12 ones placed in random locations in the list. The rest of the entries should be zeroes."
   ]
  },
  {
   "cell_type": "code",
   "execution_count": 12,
   "metadata": {},
   "outputs": [],
   "source": [
    "def problem4(): #define function that returns 6*6 list that has exactly 12 1 in random places\n",
    "    \n",
    "    import random  #import random library\n",
    "    \n",
    "    my_counter = 0 #define variables\n",
    "    my_list = []\n",
    "    \n",
    "    for i in range(6): #loop for make list have length 6\n",
    "        my_list.append([0 for a in range(6)]) #each list has all zeros and range of 6 is added to my_list\n",
    "    \n",
    "    while(my_counter < 12):  #define 12 random location in 6*6 list\n",
    "        x = random.randint(0,5) #random x axis\n",
    "        y = random.randint(0,5) #random y axis\n",
    "        if my_list[x][y] != 1:  #pass if element is 1\n",
    "            my_list[x][y] = 1\n",
    "        else:\n",
    "            continue\n",
    "        my_counter = my_counter + 1 #loop turns 12 times \n",
    "        \n",
    "    print('\\n'.join(str(p) for p in my_list)) #display 6*6 list"
   ]
  },
  {
   "cell_type": "code",
   "execution_count": 13,
   "metadata": {},
   "outputs": [
    {
     "name": "stdout",
     "output_type": "stream",
     "text": [
      "[0, 0, 1, 0, 0, 0]\n",
      "[0, 1, 0, 0, 0, 1]\n",
      "[0, 0, 1, 0, 1, 0]\n",
      "[0, 1, 0, 0, 0, 0]\n",
      "[0, 1, 1, 0, 1, 1]\n",
      "[0, 0, 1, 1, 0, 0]\n"
     ]
    }
   ],
   "source": [
    "problem4()"
   ]
  },
  {
   "cell_type": "markdown",
   "metadata": {},
   "source": [
    "To get the movie rating data go to this link: https://grouplens.org/datasets/movielens/ and download the ml-1m.zip file.\n",
    "Function that takes three files as input and writes a text file (named as “merged.dat”) for merged data. \n",
    "Merged.dat file has that order , user_id movie_id rating timestamp gender age occupation zip title genres Year"
   ]
  },
  {
   "cell_type": "code",
   "execution_count": 9,
   "metadata": {
    "collapsed": true
   },
   "outputs": [],
   "source": [
    "def problem5(movies, users, ratings, merged): #define function and input parameters\n",
    "    import re                         #import regex library\n",
    "    f_movies = open(movies,'r',encoding = 'latin-1')       #open movies file to read\n",
    "    f_users = open(users,'r')         #open users file to read\n",
    "    f_ratings = open(ratings, 'r')    #open ratings file to read\n",
    "    f_merged = open(merged, 'w') #open merged file to write\n",
    "    \n",
    "    dict_movies = {}  #define dictionary for movies file\n",
    "    for line in f_movies:\n",
    "        original_list = line.split('::') #add each movies line to list without '::' character\n",
    "        year = re.search('\\(\\d+\\)',original_list[1]).group()  #find year expression in line with regex\n",
    "        year = re.sub('\\D','',year) # strip non-digit chars\n",
    "        original_list[1] = re.sub('\\(\\d+\\)','',original_list[1]) #cut year part from dict\n",
    "        #fill dictionary of movies key and values with using '::' .In the end, year part is added\n",
    "        dict_movies[original_list[0]] = '::'.join(original_list[1:]).strip() + '::' + year + '\\n'\n",
    "    f_movies.close() #close movies file\n",
    "    \n",
    "    dict_users = {}  #define dictionary for users file\n",
    "    for line in f_users:\n",
    "        original_list = line.split('::') #add each line to list without '::' character\n",
    "        #fill dictionary of users.\n",
    "        dict_users[original_list[0]] = '::'.join(original_list[1:]).strip() \n",
    "    f_users.close() #close file\n",
    "    \n",
    "    for line in f_ratings:\n",
    "        original_list = line.split('::') #add each line to ratings list without '::' character\n",
    "        #time to merge 3 files, first is rating, second is users dict and '::' char and movies dict.\n",
    "        final_line = line.strip() + '::' + dict_users[original_list[0]] + \\\n",
    "        '::' + dict_movies[original_list[1]]\n",
    "        f_merged.write(final_line)  #write lines to file\n",
    "        \n",
    "    f_ratings.close() #close file\n",
    "    f_merged.close()"
   ]
  },
  {
   "cell_type": "code",
   "execution_count": 10,
   "metadata": {
    "collapsed": true
   },
   "outputs": [],
   "source": [
    "problem5('/ml-1m/movies.dat','/ml-1m/users.dat','/ml-1m/ratings.dat','merged.dat')"
   ]
  },
  {
   "cell_type": "code",
   "execution_count": null,
   "metadata": {
    "collapsed": true
   },
   "outputs": [],
   "source": []
  },
  {
   "cell_type": "code",
   "execution_count": null,
   "metadata": {
    "collapsed": true
   },
   "outputs": [],
   "source": []
  }
 ],
 "metadata": {
  "kernelspec": {
   "display_name": "Python 3",
   "language": "python",
   "name": "python3"
  },
  "language_info": {
   "codemirror_mode": {
    "name": "ipython",
    "version": 3
   },
   "file_extension": ".py",
   "mimetype": "text/x-python",
   "name": "python",
   "nbconvert_exporter": "python",
   "pygments_lexer": "ipython3",
   "version": "3.7.4"
  }
 },
 "nbformat": 4,
 "nbformat_minor": 2
}
